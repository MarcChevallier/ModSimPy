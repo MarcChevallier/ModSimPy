{
  "nbformat": 4,
  "nbformat_minor": 0,
  "metadata": {
    "colab": {
      "name": "Poisson Analysis - Bike Sharing.ipynb",
      "version": "0.3.2",
      "provenance": [],
      "toc_visible": true
    },
    "kernelspec": {
      "name": "python3",
      "display_name": "Python 3"
    }
  },
  "cells": [
    {
      "cell_type": "markdown",
      "metadata": {
        "id": "view-in-github",
        "colab_type": "text"
      },
      "source": [
        "[View in Colaboratory](https://colab.research.google.com/github/MarcChevallier/ModSimPy/blob/master/Poisson_Analysis_Bike_Sharing.ipynb)"
      ]
    },
    {
      "metadata": {
        "id": "jnGVN_Se8-Fx",
        "colab_type": "code",
        "colab": {}
      },
      "cell_type": "code",
      "source": [
        "import pandas as pd\n",
        "import numpy as np"
      ],
      "execution_count": 0,
      "outputs": []
    },
    {
      "metadata": {
        "id": "K9fFIfs4von9",
        "colab_type": "code",
        "colab": {
          "base_uri": "https://localhost:8080/",
          "height": 35
        },
        "outputId": "1371d3f0-5889-4eb9-85ae-f3b0918e99fd"
      },
      "cell_type": "code",
      "source": [
        "\n",
        "i = 1\n",
        "#G = (N,e)\n",
        "depo_1 = 5/2\n",
        "depo_2 = 10/2\n",
        "depo_3 = 16/2\n",
        "cliente_1 = 3,5\n",
        "cliente_2 = 3,5\n",
        "cliente_3 = 3,5\n",
        "cliente_4 = 3,5\n",
        "\n",
        "# Q capacidade do caminhão\n",
        "Q = 14\n",
        "# m frota de veículos\n",
        "m = 1\n",
        "# b business uints\n",
        "b = np.asarray([2.5, 5, 8])\n",
        "b = list(b)\n",
        "# d demanda\n",
        "d = [3.5, 3.5,3.5,3.5]\n",
        "\n",
        "\n",
        "for i in np.random.rand(4,3):\n",
        "  i = i+1\n",
        "\n",
        "print(i)\n",
        "\n",
        "b"
      ],
      "execution_count": 21,
      "outputs": [
        {
          "output_type": "stream",
          "text": [
            "[1.64412774 1.57820124 1.74781154]\n"
          ],
          "name": "stdout"
        }
      ]
    },
    {
      "metadata": {
        "id": "BiZ-TD5e--IJ",
        "colab_type": "code",
        "colab": {}
      },
      "cell_type": "code",
      "source": [
        "!pip install --upgrade -q gspread"
      ],
      "execution_count": 0,
      "outputs": []
    },
    {
      "metadata": {
        "id": "PoyEyLv5--Jg",
        "colab_type": "code",
        "colab": {}
      },
      "cell_type": "code",
      "source": [
        "from google.colab import auth\n",
        "auth.authenticate_user()\n",
        "\n",
        "import gspread\n",
        "from oauth2client.client import GoogleCredentials\n",
        "\n",
        "gc = gspread.authorize(GoogleCredentials.get_application_default())\n",
        "\n",
        "worksheet = gc.open('Transportation Management').sheet1\n",
        "\n",
        "# get_all_values gives a list of rows.\n",
        "rows = worksheet.get_all_values()\n",
        "print(rows)\n",
        "\n",
        "# Convert to a DataFrame and render.\n",
        "import pandas as pd\n",
        "pd.DataFrame.from_records(rows)"
      ],
      "execution_count": 0,
      "outputs": []
    },
    {
      "metadata": {
        "id": "bdLdLmLeycza",
        "colab_type": "code",
        "colab": {}
      },
      "cell_type": "code",
      "source": [
        ""
      ],
      "execution_count": 0,
      "outputs": []
    }
  ]
}